{
  "nbformat": 4,
  "nbformat_minor": 0,
  "metadata": {
    "colab": {
      "provenance": [],
      "authorship_tag": "ABX9TyM+9fGiCk0uAbiUGx+LoSoi",
      "include_colab_link": true
    },
    "kernelspec": {
      "name": "python3",
      "display_name": "Python 3"
    },
    "language_info": {
      "name": "python"
    }
  },
  "cells": [
    {
      "cell_type": "markdown",
      "metadata": {
        "id": "view-in-github",
        "colab_type": "text"
      },
      "source": [
        "<a href=\"https://colab.research.google.com/github/Mayte-Tixi/Machine-Learning/blob/main/Datosausentesynormalizacion.ipynb\" target=\"_parent\"><img src=\"https://colab.research.google.com/assets/colab-badge.svg\" alt=\"Open In Colab\"/></a>"
      ]
    },
    {
      "cell_type": "markdown",
      "source": [
        "# Datos ausentes y\n",
        "# normalización"
      ],
      "metadata": {
        "id": "8w-xLmjVTWpD"
      }
    },
    {
      "cell_type": "code",
      "source": [
        "import pandas as pd\n",
        "import numpy as np"
      ],
      "metadata": {
        "id": "GMF-zvlkaN86"
      },
      "execution_count": 3,
      "outputs": []
    },
    {
      "cell_type": "code",
      "source": [
        "#Para el tratamiento de los datos se va hacer uso de la data\n",
        "#flavors_of_cacao.csv\n",
        "ruta='flavors_of_cacao.csv'\n",
        "data=pd.read_csv(ruta)\n",
        "\n"
      ],
      "metadata": {
        "id": "KoIb6SGJTki6"
      },
      "execution_count": 4,
      "outputs": []
    }
  ]
}